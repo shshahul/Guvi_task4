{
  "cells": [
    {
      "cell_type": "markdown",
      "metadata": {
        "id": "view-in-github",
        "colab_type": "text"
      },
      "source": [
        "<a href=\"https://colab.research.google.com/github/shshahul/Guvi_task4/blob/main/Copy_of_Assessment2B.ipynb\" target=\"_parent\"><img src=\"https://colab.research.google.com/assets/colab-badge.svg\" alt=\"Open In Colab\"/></a>"
      ]
    },
    {
      "cell_type": "markdown",
      "metadata": {
        "id": "h722yjWw9_-s"
      },
      "source": [
        "###### Assessment"
      ]
    },
    {
      "cell_type": "markdown",
      "metadata": {
        "id": "GcARE2tT9_-y"
      },
      "source": [
        "###### I am going to provide two .csv files , you are supposed to work on them and have to provide solutions to the following problems"
      ]
    },
    {
      "cell_type": "markdown",
      "metadata": {
        "id": "GCajOUGV9_-z"
      },
      "source": [
        "###### import necessary libraries"
      ]
    },
    {
      "cell_type": "code",
      "execution_count": 1,
      "metadata": {
        "id": "m7EQ4WYQ9_-0"
      },
      "outputs": [],
      "source": [
        "import pandas as pd\n",
        "import numpy as np"
      ]
    },
    {
      "cell_type": "markdown",
      "metadata": {
        "id": "jIte1fdh9_-1"
      },
      "source": [
        "###### merge those two csv files (after getting as dataframes, get them as a single dataframe)"
      ]
    },
    {
      "cell_type": "code",
      "execution_count": null,
      "metadata": {
        "id": "ppNbXWNB9_-2"
      },
      "outputs": [],
      "source": [
        "# merging two csv files\n",
        "# df = pd.concat(map(pd.read_csv,))\n",
        "\n",
        "# df = pd.concat(\n",
        "#     map(pd.read_csv, ['mydata.csv', 'mydata1.csv']), ignore_index=True)\n",
        "# print(df)"
      ]
    },
    {
      "cell_type": "code",
      "source": [
        "from google.colab import drive\n",
        "drive.mount('/content/drive')"
      ],
      "metadata": {
        "colab": {
          "base_uri": "https://localhost:8080/"
        },
        "id": "ZxQ0EePTFaaC",
        "outputId": "1bb1d5cc-5ecd-4591-a8ec-a05c30f154ae"
      },
      "execution_count": 2,
      "outputs": [
        {
          "output_type": "stream",
          "name": "stdout",
          "text": [
            "Mounted at /content/drive\n"
          ]
        }
      ]
    },
    {
      "cell_type": "code",
      "source": [
        "from google.colab import files\n",
        " \n",
        " \n",
        "uploaded = files.upload()"
      ],
      "metadata": {
        "colab": {
          "base_uri": "https://localhost:8080/",
          "height": 110
        },
        "id": "hiUDG6hjF4nO",
        "outputId": "177a345e-d1bd-4553-f620-5575d5367c87"
      },
      "execution_count": 2,
      "outputs": [
        {
          "output_type": "display_data",
          "data": {
            "text/plain": [
              "<IPython.core.display.HTML object>"
            ],
            "text/html": [
              "\n",
              "     <input type=\"file\" id=\"files-03c6b5ef-7b0b-4f42-b691-fa4ce6d82188\" name=\"files[]\" multiple disabled\n",
              "        style=\"border:none\" />\n",
              "     <output id=\"result-03c6b5ef-7b0b-4f42-b691-fa4ce6d82188\">\n",
              "      Upload widget is only available when the cell has been executed in the\n",
              "      current browser session. Please rerun this cell to enable.\n",
              "      </output>\n",
              "      <script>// Copyright 2017 Google LLC\n",
              "//\n",
              "// Licensed under the Apache License, Version 2.0 (the \"License\");\n",
              "// you may not use this file except in compliance with the License.\n",
              "// You may obtain a copy of the License at\n",
              "//\n",
              "//      http://www.apache.org/licenses/LICENSE-2.0\n",
              "//\n",
              "// Unless required by applicable law or agreed to in writing, software\n",
              "// distributed under the License is distributed on an \"AS IS\" BASIS,\n",
              "// WITHOUT WARRANTIES OR CONDITIONS OF ANY KIND, either express or implied.\n",
              "// See the License for the specific language governing permissions and\n",
              "// limitations under the License.\n",
              "\n",
              "/**\n",
              " * @fileoverview Helpers for google.colab Python module.\n",
              " */\n",
              "(function(scope) {\n",
              "function span(text, styleAttributes = {}) {\n",
              "  const element = document.createElement('span');\n",
              "  element.textContent = text;\n",
              "  for (const key of Object.keys(styleAttributes)) {\n",
              "    element.style[key] = styleAttributes[key];\n",
              "  }\n",
              "  return element;\n",
              "}\n",
              "\n",
              "// Max number of bytes which will be uploaded at a time.\n",
              "const MAX_PAYLOAD_SIZE = 100 * 1024;\n",
              "\n",
              "function _uploadFiles(inputId, outputId) {\n",
              "  const steps = uploadFilesStep(inputId, outputId);\n",
              "  const outputElement = document.getElementById(outputId);\n",
              "  // Cache steps on the outputElement to make it available for the next call\n",
              "  // to uploadFilesContinue from Python.\n",
              "  outputElement.steps = steps;\n",
              "\n",
              "  return _uploadFilesContinue(outputId);\n",
              "}\n",
              "\n",
              "// This is roughly an async generator (not supported in the browser yet),\n",
              "// where there are multiple asynchronous steps and the Python side is going\n",
              "// to poll for completion of each step.\n",
              "// This uses a Promise to block the python side on completion of each step,\n",
              "// then passes the result of the previous step as the input to the next step.\n",
              "function _uploadFilesContinue(outputId) {\n",
              "  const outputElement = document.getElementById(outputId);\n",
              "  const steps = outputElement.steps;\n",
              "\n",
              "  const next = steps.next(outputElement.lastPromiseValue);\n",
              "  return Promise.resolve(next.value.promise).then((value) => {\n",
              "    // Cache the last promise value to make it available to the next\n",
              "    // step of the generator.\n",
              "    outputElement.lastPromiseValue = value;\n",
              "    return next.value.response;\n",
              "  });\n",
              "}\n",
              "\n",
              "/**\n",
              " * Generator function which is called between each async step of the upload\n",
              " * process.\n",
              " * @param {string} inputId Element ID of the input file picker element.\n",
              " * @param {string} outputId Element ID of the output display.\n",
              " * @return {!Iterable<!Object>} Iterable of next steps.\n",
              " */\n",
              "function* uploadFilesStep(inputId, outputId) {\n",
              "  const inputElement = document.getElementById(inputId);\n",
              "  inputElement.disabled = false;\n",
              "\n",
              "  const outputElement = document.getElementById(outputId);\n",
              "  outputElement.innerHTML = '';\n",
              "\n",
              "  const pickedPromise = new Promise((resolve) => {\n",
              "    inputElement.addEventListener('change', (e) => {\n",
              "      resolve(e.target.files);\n",
              "    });\n",
              "  });\n",
              "\n",
              "  const cancel = document.createElement('button');\n",
              "  inputElement.parentElement.appendChild(cancel);\n",
              "  cancel.textContent = 'Cancel upload';\n",
              "  const cancelPromise = new Promise((resolve) => {\n",
              "    cancel.onclick = () => {\n",
              "      resolve(null);\n",
              "    };\n",
              "  });\n",
              "\n",
              "  // Wait for the user to pick the files.\n",
              "  const files = yield {\n",
              "    promise: Promise.race([pickedPromise, cancelPromise]),\n",
              "    response: {\n",
              "      action: 'starting',\n",
              "    }\n",
              "  };\n",
              "\n",
              "  cancel.remove();\n",
              "\n",
              "  // Disable the input element since further picks are not allowed.\n",
              "  inputElement.disabled = true;\n",
              "\n",
              "  if (!files) {\n",
              "    return {\n",
              "      response: {\n",
              "        action: 'complete',\n",
              "      }\n",
              "    };\n",
              "  }\n",
              "\n",
              "  for (const file of files) {\n",
              "    const li = document.createElement('li');\n",
              "    li.append(span(file.name, {fontWeight: 'bold'}));\n",
              "    li.append(span(\n",
              "        `(${file.type || 'n/a'}) - ${file.size} bytes, ` +\n",
              "        `last modified: ${\n",
              "            file.lastModifiedDate ? file.lastModifiedDate.toLocaleDateString() :\n",
              "                                    'n/a'} - `));\n",
              "    const percent = span('0% done');\n",
              "    li.appendChild(percent);\n",
              "\n",
              "    outputElement.appendChild(li);\n",
              "\n",
              "    const fileDataPromise = new Promise((resolve) => {\n",
              "      const reader = new FileReader();\n",
              "      reader.onload = (e) => {\n",
              "        resolve(e.target.result);\n",
              "      };\n",
              "      reader.readAsArrayBuffer(file);\n",
              "    });\n",
              "    // Wait for the data to be ready.\n",
              "    let fileData = yield {\n",
              "      promise: fileDataPromise,\n",
              "      response: {\n",
              "        action: 'continue',\n",
              "      }\n",
              "    };\n",
              "\n",
              "    // Use a chunked sending to avoid message size limits. See b/62115660.\n",
              "    let position = 0;\n",
              "    do {\n",
              "      const length = Math.min(fileData.byteLength - position, MAX_PAYLOAD_SIZE);\n",
              "      const chunk = new Uint8Array(fileData, position, length);\n",
              "      position += length;\n",
              "\n",
              "      const base64 = btoa(String.fromCharCode.apply(null, chunk));\n",
              "      yield {\n",
              "        response: {\n",
              "          action: 'append',\n",
              "          file: file.name,\n",
              "          data: base64,\n",
              "        },\n",
              "      };\n",
              "\n",
              "      let percentDone = fileData.byteLength === 0 ?\n",
              "          100 :\n",
              "          Math.round((position / fileData.byteLength) * 100);\n",
              "      percent.textContent = `${percentDone}% done`;\n",
              "\n",
              "    } while (position < fileData.byteLength);\n",
              "  }\n",
              "\n",
              "  // All done.\n",
              "  yield {\n",
              "    response: {\n",
              "      action: 'complete',\n",
              "    }\n",
              "  };\n",
              "}\n",
              "\n",
              "scope.google = scope.google || {};\n",
              "scope.google.colab = scope.google.colab || {};\n",
              "scope.google.colab._files = {\n",
              "  _uploadFiles,\n",
              "  _uploadFilesContinue,\n",
              "};\n",
              "})(self);\n",
              "</script> "
            ]
          },
          "metadata": {}
        },
        {
          "output_type": "stream",
          "name": "stdout",
          "text": [
            "Saving college_2.csv to college_2.csv\n",
            "Saving college_1.csv to college_1.csv\n"
          ]
        }
      ]
    },
    {
      "cell_type": "code",
      "source": [
        "# merging two csv files\n",
        "df = pd.concat(map(pd.read_csv,['college_2.csv','college_1.csv']),ignore_index = True)"
      ],
      "metadata": {
        "id": "YqeyIp6hI4Pn"
      },
      "execution_count": 3,
      "outputs": []
    },
    {
      "cell_type": "code",
      "source": [
        "print(df)"
      ],
      "metadata": {
        "colab": {
          "base_uri": "https://localhost:8080/"
        },
        "id": "LqGWzGp1KQ1r",
        "outputId": "8ff7a90b-d0cb-4682-f38e-ef9a7f887434"
      },
      "execution_count": 6,
      "outputs": [
        {
          "output_type": "stream",
          "name": "stdout",
          "text": [
            "                  Name  python  python_en  mysql  computational_thinking  \\\n",
            "0        ASHOK KUMAR K   100.0        0.0   31.0                     9.0   \n",
            "1              Chandru     0.0       20.0    0.0                     0.0   \n",
            "2    Ganesh Ramkumar R    -1.0       55.0   24.0                     6.0   \n",
            "3      Bodipudi Harini    -1.0        0.0   35.0                    -1.0   \n",
            "4            VIINU V P    -1.0      100.0   24.0                    -1.0   \n",
            "..                 ...     ...        ...    ...                     ...   \n",
            "114       KarthikeyanS    45.0        NaN    0.0                     NaN   \n",
            "115           BARATH.P    29.0        NaN    0.0                     NaN   \n",
            "116      N.Ajith kumar    82.0        NaN    0.0                     NaN   \n",
            "117       mohamed nabi     0.0        NaN    0.0                     NaN   \n",
            "118     yaser ahamed.A     0.0        NaN   27.0                     NaN   \n",
            "\n",
            "     Previous Geekions  CodeKata Score  \\\n",
            "0                19400           19400   \n",
            "1                14150           14490   \n",
            "2                 8790           10790   \n",
            "3                10040           10040   \n",
            "4                 9150            9150   \n",
            "..                 ...             ...   \n",
            "114                  0               0   \n",
            "115                  0               0   \n",
            "116                  0               0   \n",
            "117                  0               0   \n",
            "118                  0               0   \n",
            "\n",
            "                                    Department  Rising  \n",
            "0       Electronics and Electrical Engineering       0  \n",
            "1             Computer Science and Engineering     340  \n",
            "2             Computer Science and Engineering    2000  \n",
            "3    Electronics and Communication Engineering       0  \n",
            "4       Electronics and Electrical Engineering       0  \n",
            "..                                         ...     ...  \n",
            "114     Electronics and Electrical Engineering       0  \n",
            "115     Electronics and Electrical Engineering       0  \n",
            "116     Electronics and Electrical Engineering       0  \n",
            "117     Electronics and Electrical Engineering       0  \n",
            "118     Electronics and Electrical Engineering       0  \n",
            "\n",
            "[119 rows x 9 columns]\n"
          ]
        }
      ]
    },
    {
      "cell_type": "markdown",
      "metadata": {
        "id": "LInr-yNP9_-2"
      },
      "source": [
        "###### Take each csv file , split that csv file into multiple categories (example csv files are added in the repo) \n"
      ]
    },
    {
      "cell_type": "markdown",
      "metadata": {
        "id": "JfTNMf-C9_-4"
      },
      "source": [
        "###### consider if the codekata score exceeds 15000 points(present week) then make a csv on those observations as Exceeded expectations.csv\n"
      ]
    },
    {
      "cell_type": "markdown",
      "metadata": {
        "id": "8a7GIrDS9_-5"
      },
      "source": [
        "###### if  10000<codekata score<15000   (Reached_expectations.csv)\n",
        "\n"
      ]
    },
    {
      "cell_type": "code",
      "source": [
        "Reached_expecttion=df[(df['CodeKata Score']>10000)&(df['CodeKata Score']<15000)]\n",
        "\n",
        "print(Reached_expecttion)\n",
        "\n",
        "# saving the dataframe\n",
        "Reached_expecttion.to_csv('Reached_expecttion.csv')"
      ],
      "metadata": {
        "colab": {
          "base_uri": "https://localhost:8080/"
        },
        "id": "3K-doQDiOeCZ",
        "outputId": "a50564e5-54c8-4faf-edf9-3cc51a62092a"
      },
      "execution_count": 4,
      "outputs": [
        {
          "output_type": "stream",
          "name": "stdout",
          "text": [
            "                 Name  python  python_en  mysql  computational_thinking  \\\n",
            "1             Chandru     0.0       20.0    0.0                     0.0   \n",
            "2   Ganesh Ramkumar R    -1.0       55.0   24.0                     6.0   \n",
            "3     Bodipudi Harini    -1.0        0.0   35.0                    -1.0   \n",
            "38        Mugunthan S   100.0        NaN   47.0                     NaN   \n",
            "\n",
            "    Previous Geekions  CodeKata Score  \\\n",
            "1               14150           14490   \n",
            "2                8790           10790   \n",
            "3               10040           10040   \n",
            "38              10610           10610   \n",
            "\n",
            "                                   Department  Rising  \n",
            "1            Computer Science and Engineering     340  \n",
            "2            Computer Science and Engineering    2000  \n",
            "3   Electronics and Communication Engineering       0  \n",
            "38           Computer Science and Engineering       0  \n"
          ]
        }
      ]
    },
    {
      "cell_type": "code",
      "source": [
        "#i am taking each data and accordingly i am splitting it\n",
        "\n",
        "data1 = pd.read_csv('college_1.csv')\n",
        "data2 = pd.read_csv('college_2.csv')\n",
        "\n",
        "col1 = data1[(data1['CodeKata Score']>10000)&(data1['CodeKata Score']<15000)]\n",
        "col2 = data2[(data2['CodeKata Score']>10000)&(data2['CodeKata Score']<15000)]\n",
        "\n",
        "print(col1)\n",
        "print(col2)"
      ],
      "metadata": {
        "colab": {
          "base_uri": "https://localhost:8080/"
        },
        "id": "AWB6z8OH09NZ",
        "outputId": "04c80216-ad3b-4e1e-9757-84c7418cea60"
      },
      "execution_count": 5,
      "outputs": [
        {
          "output_type": "stream",
          "name": "stdout",
          "text": [
            "          Name  python  mysql  Previous Geekions  CodeKata Score  \\\n",
            "3  Mugunthan S   100.0   47.0              10610           10610   \n",
            "\n",
            "                         Department  Rising  \n",
            "3  Computer Science and Engineering       0  \n",
            "                Name  python  python_en  mysql  computational_thinking  \\\n",
            "1            Chandru       0         20      0                       0   \n",
            "2  Ganesh Ramkumar R      -1         55     24                       6   \n",
            "3    Bodipudi Harini      -1          0     35                      -1   \n",
            "\n",
            "   Previous Geekions  CodeKata Score  \\\n",
            "1              14150           14490   \n",
            "2               8790           10790   \n",
            "3              10040           10040   \n",
            "\n",
            "                                  Department  Rising  \n",
            "1           Computer Science and Engineering     340  \n",
            "2           Computer Science and Engineering    2000  \n",
            "3  Electronics and Communication Engineering       0  \n"
          ]
        }
      ]
    },
    {
      "cell_type": "markdown",
      "metadata": {
        "id": "qrNwfaS99_-6"
      },
      "source": [
        "###### if  7000<codekata score<10000   (Needs_Improvement.csv)\n"
      ]
    },
    {
      "cell_type": "code",
      "source": [
        "Needs_Improvement=df[(df['CodeKata Score']>7000)&(df['CodeKata Score']<10000)]\n",
        "#print(Needs_Improvement)\n",
        "\n",
        "Needs_Improvement.to_csv('Needs_Improvement.csv')\n",
        "data3 = pd.read_csv('Needs_Improvement.csv')\n",
        "print(data3)"
      ],
      "metadata": {
        "colab": {
          "base_uri": "https://localhost:8080/"
        },
        "id": "twAB38ecFHzt",
        "outputId": "d8d500fd-eb03-4903-d212-7509b65a5b48"
      },
      "execution_count": 6,
      "outputs": [
        {
          "output_type": "stream",
          "name": "stdout",
          "text": [
            "    Unnamed: 0                    Name  python  python_en  mysql  \\\n",
            "0            4               VIINU V P    -1.0      100.0   24.0   \n",
            "1            5              Poojitha Y     0.0       78.0   35.0   \n",
            "2            6  Gowtham Chandrasekaran    -1.0        0.0    0.0   \n",
            "3            7               Gowtham R    -1.0       60.0    4.0   \n",
            "4            8                shifak N    58.0        0.0    0.0   \n",
            "5            9                 Balaji     -1.0      100.0   20.0   \n",
            "6           10                Rushitha    -1.0       15.0   62.0   \n",
            "7           11    Balaraman Muthupandi    -1.0        9.0    0.0   \n",
            "8           12                JPradhap   100.0        0.0    0.0   \n",
            "9           13           SRIRAMKUMAR B    -1.0        0.0    0.0   \n",
            "10          14               Praneetha    -1.0       23.0  100.0   \n",
            "11          15             Rahul Raj K    -1.0        0.0    0.0   \n",
            "12          16                 Guhan S    -1.0       72.0   35.0   \n",
            "13          17            Suryarajan S    -1.0       63.0   31.0   \n",
            "14          39             Sathammai.S   100.0        NaN    8.0   \n",
            "15          40            NIVEESHWAR S   100.0        NaN    0.0   \n",
            "16          41           KALAIARASAN K    85.0        NaN   47.0   \n",
            "17          42    MOHAMED ZUBAIR AHMED    82.0        NaN    4.0   \n",
            "\n",
            "    computational_thinking  Previous Geekions  CodeKata Score  \\\n",
            "0                     -1.0               9150            9150   \n",
            "1                      0.0               7210            8970   \n",
            "2                      3.0               7250            8950   \n",
            "3                      6.0               8650            8650   \n",
            "4                      0.0               5180            8320   \n",
            "5                      0.0               6170            8160   \n",
            "6                      9.0               7470            8090   \n",
            "7                      0.0               7670            8050   \n",
            "8                      0.0               7340            8030   \n",
            "9                      0.0               6400            7940   \n",
            "10                    -1.0               7170            7730   \n",
            "11                     0.0               6280            7640   \n",
            "12                    39.0               7310            7630   \n",
            "13                     0.0               6710            7550   \n",
            "14                     NaN               8980            8980   \n",
            "15                     NaN               8200            8200   \n",
            "16                     NaN               7750            7880   \n",
            "17                     NaN               7020            7020   \n",
            "\n",
            "                                   Department  Rising  \n",
            "0      Electronics and Electrical Engineering       0  \n",
            "1            Computer Science and Engineering    1760  \n",
            "2            Computer Science and Engineering    1700  \n",
            "3   Electronics and Communication Engineering       0  \n",
            "4      Electronics and Electrical Engineering    3140  \n",
            "5      Electronics and Electrical Engineering    1990  \n",
            "6            Computer Science and Engineering     620  \n",
            "7            Computer Science and Engineering     380  \n",
            "8      Electronics and Electrical Engineering     690  \n",
            "9            Computer Science and Engineering    1540  \n",
            "10  Electronics and Communication Engineering     560  \n",
            "11           Computer Science and Engineering    1360  \n",
            "12  Electronics and Communication Engineering     320  \n",
            "13           Computer Science and Engineering     840  \n",
            "14           Computer Science and Engineering       0  \n",
            "15           Computer Science and Engineering       0  \n",
            "16  Electronics and Communication Engineering     130  \n",
            "17           Computer Science and Engineering       0  \n"
          ]
        }
      ]
    },
    {
      "cell_type": "markdown",
      "metadata": {
        "id": "8S6Wg8fj9_-7"
      },
      "source": [
        "###### if  codekate score < 7000        (Unsatisfactory.csv)"
      ]
    },
    {
      "cell_type": "code",
      "execution_count": 11,
      "metadata": {
        "id": "I9tsSaCP9_-7",
        "colab": {
          "base_uri": "https://localhost:8080/"
        },
        "outputId": "26884d57-c7f0-4f76-95df-71b419f7a685"
      },
      "outputs": [
        {
          "output_type": "stream",
          "name": "stdout",
          "text": [
            "               Name  python  python_en  mysql  computational_thinking  \\\n",
            "18   Narasimhan Y L    -1.0       -1.0    0.0                     0.0   \n",
            "19     Leelakrishna    -1.0        6.0    4.0                     0.0   \n",
            "20   PremsagarReddy    -1.0       20.0    0.0                     0.0   \n",
            "21        pradeeban    16.0       20.0   24.0                     0.0   \n",
            "22      santhoshini    -1.0       43.0    0.0                     0.0   \n",
            "..              ...     ...        ...    ...                     ...   \n",
            "114    KarthikeyanS    45.0        NaN    0.0                     NaN   \n",
            "115        BARATH.P    29.0        NaN    0.0                     NaN   \n",
            "116   N.Ajith kumar    82.0        NaN    0.0                     NaN   \n",
            "117    mohamed nabi     0.0        NaN    0.0                     NaN   \n",
            "118  yaser ahamed.A     0.0        NaN   27.0                     NaN   \n",
            "\n",
            "     Previous Geekions  CodeKata Score  \\\n",
            "18                4800            6800   \n",
            "19                5300            6640   \n",
            "20                5290            6290   \n",
            "21                6060            6090   \n",
            "22                3910            5740   \n",
            "..                 ...             ...   \n",
            "114                  0               0   \n",
            "115                  0               0   \n",
            "116                  0               0   \n",
            "117                  0               0   \n",
            "118                  0               0   \n",
            "\n",
            "                                 Department  Rising  \n",
            "18         Computer Science and Engineering    2000  \n",
            "19         Computer Science and Engineering    1340  \n",
            "20         Computer Science and Engineering    1000  \n",
            "21         Computer Science and Engineering      30  \n",
            "22         Computer Science and Engineering    1830  \n",
            "..                                      ...     ...  \n",
            "114  Electronics and Electrical Engineering       0  \n",
            "115  Electronics and Electrical Engineering       0  \n",
            "116  Electronics and Electrical Engineering       0  \n",
            "117  Electronics and Electrical Engineering       0  \n",
            "118  Electronics and Electrical Engineering       0  \n",
            "\n",
            "[93 rows x 9 columns]\n"
          ]
        }
      ],
      "source": [
        "#Reached_expecttion=df[(df['CodeKata Score']>10000)&(df['CodeKata Score']<15000)]\n",
        "Unsatisfactory = df[(df['CodeKata Score']<7000)]\n",
        "print(Unsatisfactory)\n",
        "Unsatisfactory.to_csv('Unsatisfactory.csv')"
      ]
    },
    {
      "cell_type": "code",
      "execution_count": null,
      "metadata": {
        "id": "SaBv8pls9_-8"
      },
      "outputs": [],
      "source": []
    },
    {
      "cell_type": "markdown",
      "metadata": {
        "id": "qaIVB_eU9_-8"
      },
      "source": [
        "###### Average of previous week geekions vs this week geekions (i.e Previous Geekions vs CodeKata Score)"
      ]
    },
    {
      "cell_type": "code",
      "execution_count": 13,
      "metadata": {
        "id": "s4VesDjH9_-9",
        "colab": {
          "base_uri": "https://localhost:8080/"
        },
        "outputId": "bee876fd-a49a-4ba4-8638-3739401a49c3"
      },
      "outputs": [
        {
          "output_type": "execute_result",
          "data": {
            "text/plain": [
              "Previous Geekions\n",
              "0            0.0\n",
              "40          40.0\n",
              "60          60.0\n",
              "100        100.0\n",
              "120        120.0\n",
              "          ...   \n",
              "14150    14490.0\n",
              "19400    19400.0\n",
              "19680    19680.0\n",
              "21740    21740.0\n",
              "24500    24500.0\n",
              "Name: CodeKata Score, Length: 102, dtype: float64"
            ]
          },
          "metadata": {},
          "execution_count": 13
        }
      ],
      "source": [
        "df.groupby('Previous Geekions')['CodeKata Score'].mean()"
      ]
    },
    {
      "cell_type": "code",
      "source": [
        "df.groupby(['Name','Previous Geekions'])['CodeKata Score'].mean()"
      ],
      "metadata": {
        "colab": {
          "base_uri": "https://localhost:8080/"
        },
        "id": "rxNb3VPowXo1",
        "outputId": "ee07b13b-7aea-4295-89e5-c312de88c387"
      },
      "execution_count": 16,
      "outputs": [
        {
          "output_type": "execute_result",
          "data": {
            "text/plain": [
              "Name            Previous Geekions\n",
              " Poojitha Y     7210                  8970.0\n",
              "A.Dharani       24500                24500.0\n",
              "ABIRAMI.S       1580                  1580.0\n",
              "AMARNATH D      1890                  1890.0\n",
              "ASHOK KUMAR K   19400                19400.0\n",
              "                                      ...   \n",
              "vignesh         1740                  1740.0\n",
              "vignesh B       120                    120.0\n",
              "vijayakumar     1580                  1580.0\n",
              "vikneshwaran    40                      40.0\n",
              "yaser ahamed.A  0                        0.0\n",
              "Name: CodeKata Score, Length: 119, dtype: float64"
            ]
          },
          "metadata": {},
          "execution_count": 16
        }
      ]
    },
    {
      "cell_type": "markdown",
      "metadata": {
        "id": "vlJVySrD9_-9"
      },
      "source": [
        "###### No of students participated "
      ]
    },
    {
      "cell_type": "code",
      "execution_count": 19,
      "metadata": {
        "id": "k9rw8yh99_-9",
        "colab": {
          "base_uri": "https://localhost:8080/"
        },
        "outputId": "220604bd-94cf-48f7-ab75-a4576f2c4832"
      },
      "outputs": [
        {
          "output_type": "stream",
          "name": "stdout",
          "text": [
            "Name\n",
            " Poojitha Y       1\n",
            "A.Dharani         1\n",
            "ABIRAMI.S         1\n",
            "AMARNATH D        1\n",
            "ASHOK KUMAR K     1\n",
            "                 ..\n",
            "vignesh           1\n",
            "vignesh B         1\n",
            "vijayakumar       1\n",
            "vikneshwaran      1\n",
            "yaser ahamed.A    1\n",
            "Length: 119, dtype: int64\n"
          ]
        }
      ],
      "source": [
        "students_participated = df.groupby(['Name']).size()\n",
        "print(students_participated)"
      ]
    },
    {
      "cell_type": "markdown",
      "metadata": {
        "id": "MwXK_m_V9_--"
      },
      "source": [
        "###### #Average completion of python course or my_sql or python english or computational thinking"
      ]
    },
    {
      "cell_type": "code",
      "execution_count": 4,
      "metadata": {
        "id": "Jgc-y9Ui9_--",
        "colab": {
          "base_uri": "https://localhost:8080/"
        },
        "outputId": "9607925d-1571-4b8a-c0ee-4eb7fee30de3"
      },
      "outputs": [
        {
          "output_type": "stream",
          "name": "stderr",
          "text": [
            "<ipython-input-4-1c43c59c9f98>:1: FutureWarning: Dropping of nuisance columns in DataFrame reductions (with 'numeric_only=None') is deprecated; in a future version this will raise TypeError.  Select only valid columns before calling the reduction.\n",
            "  df.mean(axis=0)\n"
          ]
        },
        {
          "output_type": "execute_result",
          "data": {
            "text/plain": [
              "python                      54.352941\n",
              "python_en                   29.657143\n",
              "mysql                       23.500000\n",
              "computational_thinking       2.200000\n",
              "Previous Geekions         3842.352941\n",
              "CodeKata Score            4051.764706\n",
              "Rising                     209.411765\n",
              "dtype: float64"
            ]
          },
          "metadata": {},
          "execution_count": 4
        }
      ],
      "source": [
        "df.mean(axis=0)"
      ]
    },
    {
      "cell_type": "code",
      "source": [
        "# Find the mean including NaN values using DataFrame.mean()\n",
        "df.mean(axis=0,skipna=None)"
      ],
      "metadata": {
        "colab": {
          "base_uri": "https://localhost:8080/"
        },
        "id": "c5dNTze-fp3w",
        "outputId": "04802a0c-76df-43c2-f9fa-b9e4c6b6d55f"
      },
      "execution_count": 5,
      "outputs": [
        {
          "output_type": "stream",
          "name": "stderr",
          "text": [
            "<ipython-input-5-57b072c2ab79>:2: FutureWarning: Dropping of nuisance columns in DataFrame reductions (with 'numeric_only=None') is deprecated; in a future version this will raise TypeError.  Select only valid columns before calling the reduction.\n",
            "  df.mean(axis=0,skipna=None)\n"
          ]
        },
        {
          "output_type": "execute_result",
          "data": {
            "text/plain": [
              "python                      54.352941\n",
              "python_en                   29.657143\n",
              "mysql                       23.500000\n",
              "computational_thinking       2.200000\n",
              "Previous Geekions         3842.352941\n",
              "CodeKata Score            4051.764706\n",
              "Rising                     209.411765\n",
              "dtype: float64"
            ]
          },
          "metadata": {},
          "execution_count": 5
        }
      ]
    },
    {
      "cell_type": "code",
      "source": [
        "Average_completion = df[['python','mysql','python_en','computational_thinking']].mean()\n",
        "print(Average_completion)"
      ],
      "metadata": {
        "colab": {
          "base_uri": "https://localhost:8080/"
        },
        "id": "kXKnBSTDfplS",
        "outputId": "6384d81c-ad87-4738-cc4b-4b33a65e5f09"
      },
      "execution_count": 7,
      "outputs": [
        {
          "output_type": "stream",
          "name": "stdout",
          "text": [
            "python                    54.352941\n",
            "mysql                     23.500000\n",
            "python_en                 29.657143\n",
            "computational_thinking     2.200000\n",
            "dtype: float64\n"
          ]
        }
      ]
    },
    {
      "cell_type": "markdown",
      "metadata": {
        "id": "gZzZS8dd9_--"
      },
      "source": [
        "###### rising star of the week (top 3 candidate who performed well in that particular week)"
      ]
    },
    {
      "cell_type": "code",
      "execution_count": 12,
      "metadata": {
        "id": "EetEaUPC9_-_",
        "colab": {
          "base_uri": "https://localhost:8080/",
          "height": 423
        },
        "outputId": "5b156789-d068-4a22-e4d0-c269ecd72386"
      },
      "outputs": [
        {
          "output_type": "execute_result",
          "data": {
            "text/plain": [
              "                  Name  python  python_en  mysql  computational_thinking  \\\n",
              "8             shifak N    58.0        0.0    0.0                     0.0   \n",
              "2    Ganesh Ramkumar R    -1.0       55.0   24.0                     6.0   \n",
              "18      Narasimhan Y L    -1.0       -1.0    0.0                     0.0   \n",
              "9              Balaji     -1.0      100.0   20.0                     0.0   \n",
              "22         santhoshini    -1.0       43.0    0.0                     0.0   \n",
              "..                 ...     ...        ...    ...                     ...   \n",
              "51         PRIYANKA .S    85.0        NaN    4.0                     NaN   \n",
              "50            Pavithra   100.0        NaN  100.0                     NaN   \n",
              "49     Melvin Dukles.R    56.0        NaN   20.0                     NaN   \n",
              "48            RAGHAVAN   100.0        NaN    0.0                     NaN   \n",
              "118     yaser ahamed.A     0.0        NaN   27.0                     NaN   \n",
              "\n",
              "     Previous Geekions  CodeKata Score  \\\n",
              "8                 5180            8320   \n",
              "2                 8790           10790   \n",
              "18                4800            6800   \n",
              "9                 6170            8160   \n",
              "22                3910            5740   \n",
              "..                 ...             ...   \n",
              "51                4510            4510   \n",
              "50                4600            4600   \n",
              "49                4800            4800   \n",
              "48                5120            5120   \n",
              "118                  0               0   \n",
              "\n",
              "                                    Department  Rising  \n",
              "8       Electronics and Electrical Engineering    3140  \n",
              "2             Computer Science and Engineering    2000  \n",
              "18            Computer Science and Engineering    2000  \n",
              "9       Electronics and Electrical Engineering    1990  \n",
              "22            Computer Science and Engineering    1830  \n",
              "..                                         ...     ...  \n",
              "51            Computer Science and Engineering       0  \n",
              "50            Computer Science and Engineering       0  \n",
              "49   Electronics and Communication Engineering       0  \n",
              "48            Computer Science and Engineering       0  \n",
              "118     Electronics and Electrical Engineering       0  \n",
              "\n",
              "[119 rows x 9 columns]"
            ],
            "text/html": [
              "\n",
              "  <div id=\"df-2ba25779-5c2c-4def-8b23-f6ad30da2603\">\n",
              "    <div class=\"colab-df-container\">\n",
              "      <div>\n",
              "<style scoped>\n",
              "    .dataframe tbody tr th:only-of-type {\n",
              "        vertical-align: middle;\n",
              "    }\n",
              "\n",
              "    .dataframe tbody tr th {\n",
              "        vertical-align: top;\n",
              "    }\n",
              "\n",
              "    .dataframe thead th {\n",
              "        text-align: right;\n",
              "    }\n",
              "</style>\n",
              "<table border=\"1\" class=\"dataframe\">\n",
              "  <thead>\n",
              "    <tr style=\"text-align: right;\">\n",
              "      <th></th>\n",
              "      <th>Name</th>\n",
              "      <th>python</th>\n",
              "      <th>python_en</th>\n",
              "      <th>mysql</th>\n",
              "      <th>computational_thinking</th>\n",
              "      <th>Previous Geekions</th>\n",
              "      <th>CodeKata Score</th>\n",
              "      <th>Department</th>\n",
              "      <th>Rising</th>\n",
              "    </tr>\n",
              "  </thead>\n",
              "  <tbody>\n",
              "    <tr>\n",
              "      <th>8</th>\n",
              "      <td>shifak N</td>\n",
              "      <td>58.0</td>\n",
              "      <td>0.0</td>\n",
              "      <td>0.0</td>\n",
              "      <td>0.0</td>\n",
              "      <td>5180</td>\n",
              "      <td>8320</td>\n",
              "      <td>Electronics and Electrical Engineering</td>\n",
              "      <td>3140</td>\n",
              "    </tr>\n",
              "    <tr>\n",
              "      <th>2</th>\n",
              "      <td>Ganesh Ramkumar R</td>\n",
              "      <td>-1.0</td>\n",
              "      <td>55.0</td>\n",
              "      <td>24.0</td>\n",
              "      <td>6.0</td>\n",
              "      <td>8790</td>\n",
              "      <td>10790</td>\n",
              "      <td>Computer Science and Engineering</td>\n",
              "      <td>2000</td>\n",
              "    </tr>\n",
              "    <tr>\n",
              "      <th>18</th>\n",
              "      <td>Narasimhan Y L</td>\n",
              "      <td>-1.0</td>\n",
              "      <td>-1.0</td>\n",
              "      <td>0.0</td>\n",
              "      <td>0.0</td>\n",
              "      <td>4800</td>\n",
              "      <td>6800</td>\n",
              "      <td>Computer Science and Engineering</td>\n",
              "      <td>2000</td>\n",
              "    </tr>\n",
              "    <tr>\n",
              "      <th>9</th>\n",
              "      <td>Balaji</td>\n",
              "      <td>-1.0</td>\n",
              "      <td>100.0</td>\n",
              "      <td>20.0</td>\n",
              "      <td>0.0</td>\n",
              "      <td>6170</td>\n",
              "      <td>8160</td>\n",
              "      <td>Electronics and Electrical Engineering</td>\n",
              "      <td>1990</td>\n",
              "    </tr>\n",
              "    <tr>\n",
              "      <th>22</th>\n",
              "      <td>santhoshini</td>\n",
              "      <td>-1.0</td>\n",
              "      <td>43.0</td>\n",
              "      <td>0.0</td>\n",
              "      <td>0.0</td>\n",
              "      <td>3910</td>\n",
              "      <td>5740</td>\n",
              "      <td>Computer Science and Engineering</td>\n",
              "      <td>1830</td>\n",
              "    </tr>\n",
              "    <tr>\n",
              "      <th>...</th>\n",
              "      <td>...</td>\n",
              "      <td>...</td>\n",
              "      <td>...</td>\n",
              "      <td>...</td>\n",
              "      <td>...</td>\n",
              "      <td>...</td>\n",
              "      <td>...</td>\n",
              "      <td>...</td>\n",
              "      <td>...</td>\n",
              "    </tr>\n",
              "    <tr>\n",
              "      <th>51</th>\n",
              "      <td>PRIYANKA .S</td>\n",
              "      <td>85.0</td>\n",
              "      <td>NaN</td>\n",
              "      <td>4.0</td>\n",
              "      <td>NaN</td>\n",
              "      <td>4510</td>\n",
              "      <td>4510</td>\n",
              "      <td>Computer Science and Engineering</td>\n",
              "      <td>0</td>\n",
              "    </tr>\n",
              "    <tr>\n",
              "      <th>50</th>\n",
              "      <td>Pavithra</td>\n",
              "      <td>100.0</td>\n",
              "      <td>NaN</td>\n",
              "      <td>100.0</td>\n",
              "      <td>NaN</td>\n",
              "      <td>4600</td>\n",
              "      <td>4600</td>\n",
              "      <td>Computer Science and Engineering</td>\n",
              "      <td>0</td>\n",
              "    </tr>\n",
              "    <tr>\n",
              "      <th>49</th>\n",
              "      <td>Melvin Dukles.R</td>\n",
              "      <td>56.0</td>\n",
              "      <td>NaN</td>\n",
              "      <td>20.0</td>\n",
              "      <td>NaN</td>\n",
              "      <td>4800</td>\n",
              "      <td>4800</td>\n",
              "      <td>Electronics and Communication Engineering</td>\n",
              "      <td>0</td>\n",
              "    </tr>\n",
              "    <tr>\n",
              "      <th>48</th>\n",
              "      <td>RAGHAVAN</td>\n",
              "      <td>100.0</td>\n",
              "      <td>NaN</td>\n",
              "      <td>0.0</td>\n",
              "      <td>NaN</td>\n",
              "      <td>5120</td>\n",
              "      <td>5120</td>\n",
              "      <td>Computer Science and Engineering</td>\n",
              "      <td>0</td>\n",
              "    </tr>\n",
              "    <tr>\n",
              "      <th>118</th>\n",
              "      <td>yaser ahamed.A</td>\n",
              "      <td>0.0</td>\n",
              "      <td>NaN</td>\n",
              "      <td>27.0</td>\n",
              "      <td>NaN</td>\n",
              "      <td>0</td>\n",
              "      <td>0</td>\n",
              "      <td>Electronics and Electrical Engineering</td>\n",
              "      <td>0</td>\n",
              "    </tr>\n",
              "  </tbody>\n",
              "</table>\n",
              "<p>119 rows × 9 columns</p>\n",
              "</div>\n",
              "      <button class=\"colab-df-convert\" onclick=\"convertToInteractive('df-2ba25779-5c2c-4def-8b23-f6ad30da2603')\"\n",
              "              title=\"Convert this dataframe to an interactive table.\"\n",
              "              style=\"display:none;\">\n",
              "        \n",
              "  <svg xmlns=\"http://www.w3.org/2000/svg\" height=\"24px\"viewBox=\"0 0 24 24\"\n",
              "       width=\"24px\">\n",
              "    <path d=\"M0 0h24v24H0V0z\" fill=\"none\"/>\n",
              "    <path d=\"M18.56 5.44l.94 2.06.94-2.06 2.06-.94-2.06-.94-.94-2.06-.94 2.06-2.06.94zm-11 1L8.5 8.5l.94-2.06 2.06-.94-2.06-.94L8.5 2.5l-.94 2.06-2.06.94zm10 10l.94 2.06.94-2.06 2.06-.94-2.06-.94-.94-2.06-.94 2.06-2.06.94z\"/><path d=\"M17.41 7.96l-1.37-1.37c-.4-.4-.92-.59-1.43-.59-.52 0-1.04.2-1.43.59L10.3 9.45l-7.72 7.72c-.78.78-.78 2.05 0 2.83L4 21.41c.39.39.9.59 1.41.59.51 0 1.02-.2 1.41-.59l7.78-7.78 2.81-2.81c.8-.78.8-2.07 0-2.86zM5.41 20L4 18.59l7.72-7.72 1.47 1.35L5.41 20z\"/>\n",
              "  </svg>\n",
              "      </button>\n",
              "      \n",
              "  <style>\n",
              "    .colab-df-container {\n",
              "      display:flex;\n",
              "      flex-wrap:wrap;\n",
              "      gap: 12px;\n",
              "    }\n",
              "\n",
              "    .colab-df-convert {\n",
              "      background-color: #E8F0FE;\n",
              "      border: none;\n",
              "      border-radius: 50%;\n",
              "      cursor: pointer;\n",
              "      display: none;\n",
              "      fill: #1967D2;\n",
              "      height: 32px;\n",
              "      padding: 0 0 0 0;\n",
              "      width: 32px;\n",
              "    }\n",
              "\n",
              "    .colab-df-convert:hover {\n",
              "      background-color: #E2EBFA;\n",
              "      box-shadow: 0px 1px 2px rgba(60, 64, 67, 0.3), 0px 1px 3px 1px rgba(60, 64, 67, 0.15);\n",
              "      fill: #174EA6;\n",
              "    }\n",
              "\n",
              "    [theme=dark] .colab-df-convert {\n",
              "      background-color: #3B4455;\n",
              "      fill: #D2E3FC;\n",
              "    }\n",
              "\n",
              "    [theme=dark] .colab-df-convert:hover {\n",
              "      background-color: #434B5C;\n",
              "      box-shadow: 0px 1px 3px 1px rgba(0, 0, 0, 0.15);\n",
              "      filter: drop-shadow(0px 1px 2px rgba(0, 0, 0, 0.3));\n",
              "      fill: #FFFFFF;\n",
              "    }\n",
              "  </style>\n",
              "\n",
              "      <script>\n",
              "        const buttonEl =\n",
              "          document.querySelector('#df-2ba25779-5c2c-4def-8b23-f6ad30da2603 button.colab-df-convert');\n",
              "        buttonEl.style.display =\n",
              "          google.colab.kernel.accessAllowed ? 'block' : 'none';\n",
              "\n",
              "        async function convertToInteractive(key) {\n",
              "          const element = document.querySelector('#df-2ba25779-5c2c-4def-8b23-f6ad30da2603');\n",
              "          const dataTable =\n",
              "            await google.colab.kernel.invokeFunction('convertToInteractive',\n",
              "                                                     [key], {});\n",
              "          if (!dataTable) return;\n",
              "\n",
              "          const docLinkHtml = 'Like what you see? Visit the ' +\n",
              "            '<a target=\"_blank\" href=https://colab.research.google.com/notebooks/data_table.ipynb>data table notebook</a>'\n",
              "            + ' to learn more about interactive tables.';\n",
              "          element.innerHTML = '';\n",
              "          dataTable['output_type'] = 'display_data';\n",
              "          await google.colab.output.renderOutput(dataTable, element);\n",
              "          const docLink = document.createElement('div');\n",
              "          docLink.innerHTML = docLinkHtml;\n",
              "          element.appendChild(docLink);\n",
              "        }\n",
              "      </script>\n",
              "    </div>\n",
              "  </div>\n",
              "  "
            ]
          },
          "metadata": {},
          "execution_count": 12
        }
      ],
      "source": [
        "df.sort_values(['Rising'], ascending=False).groupby(\"Name\").head(1)"
      ]
    },
    {
      "cell_type": "code",
      "source": [
        "df.nlargest(3,'Rising')"
      ],
      "metadata": {
        "colab": {
          "base_uri": "https://localhost:8080/",
          "height": 143
        },
        "id": "zzkTFmdTlP4i",
        "outputId": "ca9ff7f3-c116-42f9-9090-c072b88c4feb"
      },
      "execution_count": 13,
      "outputs": [
        {
          "output_type": "execute_result",
          "data": {
            "text/plain": [
              "                 Name  python  python_en  mysql  computational_thinking  \\\n",
              "8            shifak N    58.0        0.0    0.0                     0.0   \n",
              "2   Ganesh Ramkumar R    -1.0       55.0   24.0                     6.0   \n",
              "18     Narasimhan Y L    -1.0       -1.0    0.0                     0.0   \n",
              "\n",
              "    Previous Geekions  CodeKata Score                              Department  \\\n",
              "8                5180            8320  Electronics and Electrical Engineering   \n",
              "2                8790           10790        Computer Science and Engineering   \n",
              "18               4800            6800        Computer Science and Engineering   \n",
              "\n",
              "    Rising  \n",
              "8     3140  \n",
              "2     2000  \n",
              "18    2000  "
            ],
            "text/html": [
              "\n",
              "  <div id=\"df-1fd239a6-42a7-45ae-b921-fb38a505c0d7\">\n",
              "    <div class=\"colab-df-container\">\n",
              "      <div>\n",
              "<style scoped>\n",
              "    .dataframe tbody tr th:only-of-type {\n",
              "        vertical-align: middle;\n",
              "    }\n",
              "\n",
              "    .dataframe tbody tr th {\n",
              "        vertical-align: top;\n",
              "    }\n",
              "\n",
              "    .dataframe thead th {\n",
              "        text-align: right;\n",
              "    }\n",
              "</style>\n",
              "<table border=\"1\" class=\"dataframe\">\n",
              "  <thead>\n",
              "    <tr style=\"text-align: right;\">\n",
              "      <th></th>\n",
              "      <th>Name</th>\n",
              "      <th>python</th>\n",
              "      <th>python_en</th>\n",
              "      <th>mysql</th>\n",
              "      <th>computational_thinking</th>\n",
              "      <th>Previous Geekions</th>\n",
              "      <th>CodeKata Score</th>\n",
              "      <th>Department</th>\n",
              "      <th>Rising</th>\n",
              "    </tr>\n",
              "  </thead>\n",
              "  <tbody>\n",
              "    <tr>\n",
              "      <th>8</th>\n",
              "      <td>shifak N</td>\n",
              "      <td>58.0</td>\n",
              "      <td>0.0</td>\n",
              "      <td>0.0</td>\n",
              "      <td>0.0</td>\n",
              "      <td>5180</td>\n",
              "      <td>8320</td>\n",
              "      <td>Electronics and Electrical Engineering</td>\n",
              "      <td>3140</td>\n",
              "    </tr>\n",
              "    <tr>\n",
              "      <th>2</th>\n",
              "      <td>Ganesh Ramkumar R</td>\n",
              "      <td>-1.0</td>\n",
              "      <td>55.0</td>\n",
              "      <td>24.0</td>\n",
              "      <td>6.0</td>\n",
              "      <td>8790</td>\n",
              "      <td>10790</td>\n",
              "      <td>Computer Science and Engineering</td>\n",
              "      <td>2000</td>\n",
              "    </tr>\n",
              "    <tr>\n",
              "      <th>18</th>\n",
              "      <td>Narasimhan Y L</td>\n",
              "      <td>-1.0</td>\n",
              "      <td>-1.0</td>\n",
              "      <td>0.0</td>\n",
              "      <td>0.0</td>\n",
              "      <td>4800</td>\n",
              "      <td>6800</td>\n",
              "      <td>Computer Science and Engineering</td>\n",
              "      <td>2000</td>\n",
              "    </tr>\n",
              "  </tbody>\n",
              "</table>\n",
              "</div>\n",
              "      <button class=\"colab-df-convert\" onclick=\"convertToInteractive('df-1fd239a6-42a7-45ae-b921-fb38a505c0d7')\"\n",
              "              title=\"Convert this dataframe to an interactive table.\"\n",
              "              style=\"display:none;\">\n",
              "        \n",
              "  <svg xmlns=\"http://www.w3.org/2000/svg\" height=\"24px\"viewBox=\"0 0 24 24\"\n",
              "       width=\"24px\">\n",
              "    <path d=\"M0 0h24v24H0V0z\" fill=\"none\"/>\n",
              "    <path d=\"M18.56 5.44l.94 2.06.94-2.06 2.06-.94-2.06-.94-.94-2.06-.94 2.06-2.06.94zm-11 1L8.5 8.5l.94-2.06 2.06-.94-2.06-.94L8.5 2.5l-.94 2.06-2.06.94zm10 10l.94 2.06.94-2.06 2.06-.94-2.06-.94-.94-2.06-.94 2.06-2.06.94z\"/><path d=\"M17.41 7.96l-1.37-1.37c-.4-.4-.92-.59-1.43-.59-.52 0-1.04.2-1.43.59L10.3 9.45l-7.72 7.72c-.78.78-.78 2.05 0 2.83L4 21.41c.39.39.9.59 1.41.59.51 0 1.02-.2 1.41-.59l7.78-7.78 2.81-2.81c.8-.78.8-2.07 0-2.86zM5.41 20L4 18.59l7.72-7.72 1.47 1.35L5.41 20z\"/>\n",
              "  </svg>\n",
              "      </button>\n",
              "      \n",
              "  <style>\n",
              "    .colab-df-container {\n",
              "      display:flex;\n",
              "      flex-wrap:wrap;\n",
              "      gap: 12px;\n",
              "    }\n",
              "\n",
              "    .colab-df-convert {\n",
              "      background-color: #E8F0FE;\n",
              "      border: none;\n",
              "      border-radius: 50%;\n",
              "      cursor: pointer;\n",
              "      display: none;\n",
              "      fill: #1967D2;\n",
              "      height: 32px;\n",
              "      padding: 0 0 0 0;\n",
              "      width: 32px;\n",
              "    }\n",
              "\n",
              "    .colab-df-convert:hover {\n",
              "      background-color: #E2EBFA;\n",
              "      box-shadow: 0px 1px 2px rgba(60, 64, 67, 0.3), 0px 1px 3px 1px rgba(60, 64, 67, 0.15);\n",
              "      fill: #174EA6;\n",
              "    }\n",
              "\n",
              "    [theme=dark] .colab-df-convert {\n",
              "      background-color: #3B4455;\n",
              "      fill: #D2E3FC;\n",
              "    }\n",
              "\n",
              "    [theme=dark] .colab-df-convert:hover {\n",
              "      background-color: #434B5C;\n",
              "      box-shadow: 0px 1px 3px 1px rgba(0, 0, 0, 0.15);\n",
              "      filter: drop-shadow(0px 1px 2px rgba(0, 0, 0, 0.3));\n",
              "      fill: #FFFFFF;\n",
              "    }\n",
              "  </style>\n",
              "\n",
              "      <script>\n",
              "        const buttonEl =\n",
              "          document.querySelector('#df-1fd239a6-42a7-45ae-b921-fb38a505c0d7 button.colab-df-convert');\n",
              "        buttonEl.style.display =\n",
              "          google.colab.kernel.accessAllowed ? 'block' : 'none';\n",
              "\n",
              "        async function convertToInteractive(key) {\n",
              "          const element = document.querySelector('#df-1fd239a6-42a7-45ae-b921-fb38a505c0d7');\n",
              "          const dataTable =\n",
              "            await google.colab.kernel.invokeFunction('convertToInteractive',\n",
              "                                                     [key], {});\n",
              "          if (!dataTable) return;\n",
              "\n",
              "          const docLinkHtml = 'Like what you see? Visit the ' +\n",
              "            '<a target=\"_blank\" href=https://colab.research.google.com/notebooks/data_table.ipynb>data table notebook</a>'\n",
              "            + ' to learn more about interactive tables.';\n",
              "          element.innerHTML = '';\n",
              "          dataTable['output_type'] = 'display_data';\n",
              "          await google.colab.output.renderOutput(dataTable, element);\n",
              "          const docLink = document.createElement('div');\n",
              "          docLink.innerHTML = docLinkHtml;\n",
              "          element.appendChild(docLink);\n",
              "        }\n",
              "      </script>\n",
              "    </div>\n",
              "  </div>\n",
              "  "
            ]
          },
          "metadata": {},
          "execution_count": 13
        }
      ]
    },
    {
      "cell_type": "markdown",
      "metadata": {
        "id": "UXKHSthZ9_-_"
      },
      "source": [
        "###### Shining stars of the week (top 3 candidates who has highest geekions)"
      ]
    },
    {
      "cell_type": "code",
      "execution_count": 14,
      "metadata": {
        "id": "hQJrEYiF9_-_",
        "colab": {
          "base_uri": "https://localhost:8080/",
          "height": 143
        },
        "outputId": "c80a12a9-c121-4f5e-8b24-072009b52ca4"
      },
      "outputs": [
        {
          "output_type": "execute_result",
          "data": {
            "text/plain": [
              "           Name  python  python_en  mysql  computational_thinking  \\\n",
              "35    A.Dharani    82.0        NaN   20.0                     NaN   \n",
              "36  V.JEEVITHA     82.0        NaN   20.0                     NaN   \n",
              "37  HEMAVATHI.R   100.0        NaN  100.0                     NaN   \n",
              "\n",
              "    Previous Geekions  CodeKata Score                        Department  \\\n",
              "35              24500           24500  Computer Science and Engineering   \n",
              "36              21740           21740  Computer Science and Engineering   \n",
              "37              19680           19680  Computer Science and Engineering   \n",
              "\n",
              "    Rising  \n",
              "35       0  \n",
              "36       0  \n",
              "37       0  "
            ],
            "text/html": [
              "\n",
              "  <div id=\"df-de5af05c-aa48-4475-a020-b8989ac86351\">\n",
              "    <div class=\"colab-df-container\">\n",
              "      <div>\n",
              "<style scoped>\n",
              "    .dataframe tbody tr th:only-of-type {\n",
              "        vertical-align: middle;\n",
              "    }\n",
              "\n",
              "    .dataframe tbody tr th {\n",
              "        vertical-align: top;\n",
              "    }\n",
              "\n",
              "    .dataframe thead th {\n",
              "        text-align: right;\n",
              "    }\n",
              "</style>\n",
              "<table border=\"1\" class=\"dataframe\">\n",
              "  <thead>\n",
              "    <tr style=\"text-align: right;\">\n",
              "      <th></th>\n",
              "      <th>Name</th>\n",
              "      <th>python</th>\n",
              "      <th>python_en</th>\n",
              "      <th>mysql</th>\n",
              "      <th>computational_thinking</th>\n",
              "      <th>Previous Geekions</th>\n",
              "      <th>CodeKata Score</th>\n",
              "      <th>Department</th>\n",
              "      <th>Rising</th>\n",
              "    </tr>\n",
              "  </thead>\n",
              "  <tbody>\n",
              "    <tr>\n",
              "      <th>35</th>\n",
              "      <td>A.Dharani</td>\n",
              "      <td>82.0</td>\n",
              "      <td>NaN</td>\n",
              "      <td>20.0</td>\n",
              "      <td>NaN</td>\n",
              "      <td>24500</td>\n",
              "      <td>24500</td>\n",
              "      <td>Computer Science and Engineering</td>\n",
              "      <td>0</td>\n",
              "    </tr>\n",
              "    <tr>\n",
              "      <th>36</th>\n",
              "      <td>V.JEEVITHA</td>\n",
              "      <td>82.0</td>\n",
              "      <td>NaN</td>\n",
              "      <td>20.0</td>\n",
              "      <td>NaN</td>\n",
              "      <td>21740</td>\n",
              "      <td>21740</td>\n",
              "      <td>Computer Science and Engineering</td>\n",
              "      <td>0</td>\n",
              "    </tr>\n",
              "    <tr>\n",
              "      <th>37</th>\n",
              "      <td>HEMAVATHI.R</td>\n",
              "      <td>100.0</td>\n",
              "      <td>NaN</td>\n",
              "      <td>100.0</td>\n",
              "      <td>NaN</td>\n",
              "      <td>19680</td>\n",
              "      <td>19680</td>\n",
              "      <td>Computer Science and Engineering</td>\n",
              "      <td>0</td>\n",
              "    </tr>\n",
              "  </tbody>\n",
              "</table>\n",
              "</div>\n",
              "      <button class=\"colab-df-convert\" onclick=\"convertToInteractive('df-de5af05c-aa48-4475-a020-b8989ac86351')\"\n",
              "              title=\"Convert this dataframe to an interactive table.\"\n",
              "              style=\"display:none;\">\n",
              "        \n",
              "  <svg xmlns=\"http://www.w3.org/2000/svg\" height=\"24px\"viewBox=\"0 0 24 24\"\n",
              "       width=\"24px\">\n",
              "    <path d=\"M0 0h24v24H0V0z\" fill=\"none\"/>\n",
              "    <path d=\"M18.56 5.44l.94 2.06.94-2.06 2.06-.94-2.06-.94-.94-2.06-.94 2.06-2.06.94zm-11 1L8.5 8.5l.94-2.06 2.06-.94-2.06-.94L8.5 2.5l-.94 2.06-2.06.94zm10 10l.94 2.06.94-2.06 2.06-.94-2.06-.94-.94-2.06-.94 2.06-2.06.94z\"/><path d=\"M17.41 7.96l-1.37-1.37c-.4-.4-.92-.59-1.43-.59-.52 0-1.04.2-1.43.59L10.3 9.45l-7.72 7.72c-.78.78-.78 2.05 0 2.83L4 21.41c.39.39.9.59 1.41.59.51 0 1.02-.2 1.41-.59l7.78-7.78 2.81-2.81c.8-.78.8-2.07 0-2.86zM5.41 20L4 18.59l7.72-7.72 1.47 1.35L5.41 20z\"/>\n",
              "  </svg>\n",
              "      </button>\n",
              "      \n",
              "  <style>\n",
              "    .colab-df-container {\n",
              "      display:flex;\n",
              "      flex-wrap:wrap;\n",
              "      gap: 12px;\n",
              "    }\n",
              "\n",
              "    .colab-df-convert {\n",
              "      background-color: #E8F0FE;\n",
              "      border: none;\n",
              "      border-radius: 50%;\n",
              "      cursor: pointer;\n",
              "      display: none;\n",
              "      fill: #1967D2;\n",
              "      height: 32px;\n",
              "      padding: 0 0 0 0;\n",
              "      width: 32px;\n",
              "    }\n",
              "\n",
              "    .colab-df-convert:hover {\n",
              "      background-color: #E2EBFA;\n",
              "      box-shadow: 0px 1px 2px rgba(60, 64, 67, 0.3), 0px 1px 3px 1px rgba(60, 64, 67, 0.15);\n",
              "      fill: #174EA6;\n",
              "    }\n",
              "\n",
              "    [theme=dark] .colab-df-convert {\n",
              "      background-color: #3B4455;\n",
              "      fill: #D2E3FC;\n",
              "    }\n",
              "\n",
              "    [theme=dark] .colab-df-convert:hover {\n",
              "      background-color: #434B5C;\n",
              "      box-shadow: 0px 1px 3px 1px rgba(0, 0, 0, 0.15);\n",
              "      filter: drop-shadow(0px 1px 2px rgba(0, 0, 0, 0.3));\n",
              "      fill: #FFFFFF;\n",
              "    }\n",
              "  </style>\n",
              "\n",
              "      <script>\n",
              "        const buttonEl =\n",
              "          document.querySelector('#df-de5af05c-aa48-4475-a020-b8989ac86351 button.colab-df-convert');\n",
              "        buttonEl.style.display =\n",
              "          google.colab.kernel.accessAllowed ? 'block' : 'none';\n",
              "\n",
              "        async function convertToInteractive(key) {\n",
              "          const element = document.querySelector('#df-de5af05c-aa48-4475-a020-b8989ac86351');\n",
              "          const dataTable =\n",
              "            await google.colab.kernel.invokeFunction('convertToInteractive',\n",
              "                                                     [key], {});\n",
              "          if (!dataTable) return;\n",
              "\n",
              "          const docLinkHtml = 'Like what you see? Visit the ' +\n",
              "            '<a target=\"_blank\" href=https://colab.research.google.com/notebooks/data_table.ipynb>data table notebook</a>'\n",
              "            + ' to learn more about interactive tables.';\n",
              "          element.innerHTML = '';\n",
              "          dataTable['output_type'] = 'display_data';\n",
              "          await google.colab.output.renderOutput(dataTable, element);\n",
              "          const docLink = document.createElement('div');\n",
              "          docLink.innerHTML = docLinkHtml;\n",
              "          element.appendChild(docLink);\n",
              "        }\n",
              "      </script>\n",
              "    </div>\n",
              "  </div>\n",
              "  "
            ]
          },
          "metadata": {},
          "execution_count": 14
        }
      ],
      "source": [
        "df.nlargest(3,'Previous Geekions')"
      ]
    },
    {
      "cell_type": "markdown",
      "metadata": {
        "id": "CVX04HhX9_-_"
      },
      "source": [
        "###### Department wise codekata performence (pie chart)"
      ]
    },
    {
      "cell_type": "code",
      "source": [
        "##plot using data\n",
        "!pip install seaborn"
      ],
      "metadata": {
        "colab": {
          "base_uri": "https://localhost:8080/"
        },
        "id": "5B6TAX_QqGoR",
        "outputId": "88e2ae83-6c8f-42ab-f716-c713052592b0"
      },
      "execution_count": 17,
      "outputs": [
        {
          "output_type": "stream",
          "name": "stdout",
          "text": [
            "Looking in indexes: https://pypi.org/simple, https://us-python.pkg.dev/colab-wheels/public/simple/\n",
            "Requirement already satisfied: seaborn in /usr/local/lib/python3.8/dist-packages (0.11.2)\n",
            "Requirement already satisfied: scipy>=1.0 in /usr/local/lib/python3.8/dist-packages (from seaborn) (1.7.3)\n",
            "Requirement already satisfied: matplotlib>=2.2 in /usr/local/lib/python3.8/dist-packages (from seaborn) (3.2.2)\n",
            "Requirement already satisfied: numpy>=1.15 in /usr/local/lib/python3.8/dist-packages (from seaborn) (1.21.6)\n",
            "Requirement already satisfied: pandas>=0.23 in /usr/local/lib/python3.8/dist-packages (from seaborn) (1.3.5)\n",
            "Requirement already satisfied: cycler>=0.10 in /usr/local/lib/python3.8/dist-packages (from matplotlib>=2.2->seaborn) (0.11.0)\n",
            "Requirement already satisfied: python-dateutil>=2.1 in /usr/local/lib/python3.8/dist-packages (from matplotlib>=2.2->seaborn) (2.8.2)\n",
            "Requirement already satisfied: pyparsing!=2.0.4,!=2.1.2,!=2.1.6,>=2.0.1 in /usr/local/lib/python3.8/dist-packages (from matplotlib>=2.2->seaborn) (3.0.9)\n",
            "Requirement already satisfied: kiwisolver>=1.0.1 in /usr/local/lib/python3.8/dist-packages (from matplotlib>=2.2->seaborn) (1.4.4)\n",
            "Requirement already satisfied: pytz>=2017.3 in /usr/local/lib/python3.8/dist-packages (from pandas>=0.23->seaborn) (2022.6)\n",
            "Requirement already satisfied: six>=1.5 in /usr/local/lib/python3.8/dist-packages (from python-dateutil>=2.1->matplotlib>=2.2->seaborn) (1.15.0)\n"
          ]
        }
      ]
    },
    {
      "cell_type": "code",
      "source": [
        "import matplotlib.pyplot as plt"
      ],
      "metadata": {
        "id": "wm5vlniZr43N"
      },
      "execution_count": 18,
      "outputs": []
    },
    {
      "cell_type": "code",
      "execution_count": 30,
      "metadata": {
        "id": "31L4Q8Sx9__A",
        "colab": {
          "base_uri": "https://localhost:8080/",
          "height": 248
        },
        "outputId": "a1108466-8907-4802-cf48-61f04d923049"
      },
      "outputs": [
        {
          "output_type": "display_data",
          "data": {
            "text/plain": [
              "<Figure size 432x288 with 1 Axes>"
            ],
            "image/png": "[encoded data removed]"
          },
          "metadata": {}
        }
      ],
      "source": [
        "df = pd.concat(map(pd.read_csv,['college_2.csv','college_1.csv']),ignore_index = True)\n",
        "plt.pie(df['CodeKata Score'], labels = df['Department'])\n",
        "plt.show()"
      ]
    },
    {
      "cell_type": "code",
      "source": [
        "#Printing pie chart on average of all the departments \n",
        "D_wise= df.groupby(['Department'])['CodeKata Score'].mean()\n",
        "x = [5079.761905,2777.820513,3164.705882]\n",
        "y = ['Computer Science and Engineering','Electronics and Communication Engineering','Electronics and Electrical Engineering']\n",
        "plt.pie(x, labels=y)"
      ],
      "metadata": {
        "colab": {
          "base_uri": "https://localhost:8080/",
          "height": 359
        },
        "id": "6oaqyHQn6Bht",
        "outputId": "05300a33-daca-410b-c065-15400cbeaf55"
      },
      "execution_count": 46,
      "outputs": [
        {
          "output_type": "execute_result",
          "data": {
            "text/plain": [
              "([<matplotlib.patches.Wedge at 0x7f73a55a2220>,\n",
              "  <matplotlib.patches.Wedge at 0x7f73a55a26d0>,\n",
              "  <matplotlib.patches.Wedge at 0x7f73a55a2b50>],\n",
              " [Text(0.13490819619649513, 1.0916958269586856, 'Computer Science and Engineering'),\n",
              "  Text(-0.9401648049597914, -0.5710430277263856, 'Electronics and Communication Engineering'),\n",
              "  Text(0.6820374803157301, -0.8630323721880717, 'Electronics and Electrical Engineering')])"
            ]
          },
          "metadata": {},
          "execution_count": 46
        },
        {
          "output_type": "display_data",
          "data": {
            "text/plain": [
              "<Figure size 432x288 with 1 Axes>"
            ],
            "image/png": "[encoded data removed]"
          },
          "metadata": {}
        }
      ]
    },
    {
      "cell_type": "markdown",
      "metadata": {
        "id": "GlFwVeiB9__A"
      },
      "source": [
        "###### Department wise toppers (horizantal bar graph or any visual representations of your choice)"
      ]
    },
    {
      "cell_type": "code",
      "execution_count": 72,
      "metadata": {
        "id": "JMQW7FqH9__A"
      },
      "outputs": [],
      "source": [
        "D_wise1= df.groupby(['Department'])['CodeKata Score'].nlargest()"
      ]
    },
    {
      "cell_type": "code",
      "execution_count": 73,
      "metadata": {
        "id": "F9bwJSBn9__A",
        "colab": {
          "base_uri": "https://localhost:8080/"
        },
        "outputId": "f0c3ba36-6a1b-4755-cdae-12213ba0a912"
      },
      "outputs": [
        {
          "output_type": "stream",
          "name": "stdout",
          "text": [
            "Department                                   \n",
            "Computer Science and Engineering           35    24500\n",
            "                                           36    21740\n",
            "                                           37    19680\n",
            "                                           1     14490\n",
            "                                           2     10790\n",
            "Electronics and Communication Engineering  3     10040\n",
            "                                           7      8650\n",
            "                                           41     7880\n",
            "                                           14     7730\n",
            "                                           16     7630\n",
            "Electronics and Electrical Engineering     0     19400\n",
            "                                           4      9150\n",
            "                                           8      8320\n",
            "                                           9      8160\n",
            "                                           12     8030\n",
            "Name: CodeKata Score, dtype: int64\n"
          ]
        }
      ],
      "source": [
        "print(D_wise1)"
      ]
    },
    {
      "cell_type": "code",
      "source": [
        "import seaborn as sns"
      ],
      "metadata": {
        "id": "Okf4RrD4-PuT"
      },
      "execution_count": 55,
      "outputs": []
    },
    {
      "cell_type": "code",
      "source": [
        "# i am converting variable D_wise in to an CSV file \n",
        "D_wise1.to_csv('D_wise1.csv')"
      ],
      "metadata": {
        "id": "Uc6-rjXG-tz8"
      },
      "execution_count": 75,
      "outputs": []
    },
    {
      "cell_type": "code",
      "source": [
        "df5= pd.read_csv(\"D_wise1.csv\")\n",
        "plt.barh(df5['Department'],df5['CodeKata Score'], color='green')"
      ],
      "metadata": {
        "colab": {
          "base_uri": "https://localhost:8080/",
          "height": 283
        },
        "id": "UClxi1Cq-BGw",
        "outputId": "65f11771-9019-46a6-e1b2-236398f0356c"
      },
      "execution_count": 77,
      "outputs": [
        {
          "output_type": "execute_result",
          "data": {
            "text/plain": [
              "<BarContainer object of 15 artists>"
            ]
          },
          "metadata": {},
          "execution_count": 77
        },
        {
          "output_type": "display_data",
          "data": {
            "text/plain": [
              "<Figure size 432x288 with 1 Axes>"
            ],
            "image/png": "[encoded data removed]"
          },
          "metadata": {
            "needs_background": "light"
          }
        }
      ]
    },
    {
      "cell_type": "code",
      "source": [
        "df5= pd.read_csv(\"D_wise1.csv\")\n",
        "plt.bar(df5['Department'],df5['CodeKata Score'], color='green')"
      ],
      "metadata": {
        "colab": {
          "base_uri": "https://localhost:8080/",
          "height": 283
        },
        "id": "pb2XgStEBnEa",
        "outputId": "dc114abf-ae15-457e-c1de-d19f69891c15"
      },
      "execution_count": 83,
      "outputs": [
        {
          "output_type": "execute_result",
          "data": {
            "text/plain": [
              "<BarContainer object of 15 artists>"
            ]
          },
          "metadata": {},
          "execution_count": 83
        },
        {
          "output_type": "display_data",
          "data": {
            "text/plain": [
              "<Figure size 432x288 with 1 Axes>"
            ],
            "image/png": "[encoded data removed]"
          },
          "metadata": {
            "needs_background": "light"
          }
        }
      ]
    },
    {
      "cell_type": "code",
      "source": [
        "plt.scatter(df5['Department'],df5['CodeKata Score'], color='green')"
      ],
      "metadata": {
        "colab": {
          "base_uri": "https://localhost:8080/",
          "height": 283
        },
        "id": "jovtmgdJCY9l",
        "outputId": "961936ea-35bc-4a9b-fda1-9ac0171a1186"
      },
      "execution_count": 84,
      "outputs": [
        {
          "output_type": "execute_result",
          "data": {
            "text/plain": [
              "<matplotlib.collections.PathCollection at 0x7f739d38f580>"
            ]
          },
          "metadata": {},
          "execution_count": 84
        },
        {
          "output_type": "display_data",
          "data": {
            "text/plain": [
              "<Figure size 432x288 with 1 Axes>"
            ],
            "image/png": "[encoded data removed]"
          },
          "metadata": {
            "needs_background": "light"
          }
        }
      ]
    },
    {
      "cell_type": "code",
      "execution_count": null,
      "metadata": {
        "id": "LTxg1pZi9__B"
      },
      "outputs": [],
      "source": []
    },
    {
      "cell_type": "code",
      "execution_count": null,
      "metadata": {
        "id": "0b5UJGw19__B"
      },
      "outputs": [],
      "source": []
    }
  ],
  "metadata": {
    "kernelspec": {
      "display_name": "Python 3",
      "language": "python",
      "name": "python3"
    },
    "language_info": {
      "codemirror_mode": {
        "name": "ipython",
        "version": 3
      },
      "file_extension": ".py",
      "mimetype": "text/x-python",
      "name": "python",
      "nbconvert_exporter": "python",
      "pygments_lexer": "ipython3",
      "version": "3.8.3"
    },
    "colab": {
      "provenance": [],
      "include_colab_link": true
    }
  },
  "nbformat": 4,
  "nbformat_minor": 0
}